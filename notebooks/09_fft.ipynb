{
 "cells": [
  {
   "cell_type": "code",
   "execution_count": 1,
   "outputs": [],
   "source": [
    "import git\n",
    "import os\n",
    "\n",
    "# Get git repository root\n",
    "repo = git.Repo(\".\", search_parent_directories = True)\n",
    "# Update notebook working dir to repository root\n",
    "os.chdir(repo.working_tree_dir)"
   ],
   "metadata": {
    "collapsed": false,
    "ExecuteTime": {
     "end_time": "2024-04-28T19:11:06.259322Z",
     "start_time": "2024-04-28T19:11:06.191010Z"
    }
   },
   "id": "4a4dbfaa6a14dc07"
  },
  {
   "cell_type": "code",
   "execution_count": 2,
   "id": "initial_id",
   "metadata": {
    "collapsed": true,
    "ExecuteTime": {
     "end_time": "2024-04-28T19:11:06.836597Z",
     "start_time": "2024-04-28T19:11:06.260937Z"
    }
   },
   "outputs": [],
   "source": [
    "import numpy as np\n",
    "import pandas as pd\n",
    "from scipy.fft import fft, fftfreq\n",
    "import matplotlib.pyplot as plt\n",
    "\n",
    "with open(f\"python/to_mne.py\", \"r\") as file:\n",
    "    exec(file.read())"
   ]
  },
  {
   "cell_type": "code",
   "execution_count": 3,
   "outputs": [],
   "source": [
    "samples = pd.read_csv(\"sample_sheet.csv\")\n",
    "sample = samples.iloc[0]\n",
    "\n",
    "sfreq = 20_000\n",
    "\n",
    "file = f\"output/movement-s1-m1/{sample['AnimalID']}/{sample['CellName']}/vm/filter.csv\"\n",
    "sample_data = np.array(pd.read_csv(file, index_col = 0))\n",
    "\n",
    "file = f\"output/movement-s1-m1/{sample['AnimalID']}/{sample['CellName']}/movement_filtered.csv\"\n",
    "movement = pd.read_csv(file)\n",
    "\n",
    "file = f\"output/movement-s1-m1/{sample['AnimalID']}/{sample['CellName']}/rest_filtered.csv\"\n",
    "rest = pd.read_csv(file)"
   ],
   "metadata": {
    "collapsed": false,
    "ExecuteTime": {
     "end_time": "2024-04-28T19:11:14.784070Z",
     "start_time": "2024-04-28T19:11:06.839148Z"
    }
   },
   "id": "5bfb7e40c23ee28a"
  },
  {
   "cell_type": "code",
   "execution_count": 4,
   "outputs": [],
   "source": [
    "event_fft_freq = []\n",
    "movement_data = []\n",
    "\n",
    "for _, episode in movement.iterrows():\n",
    "    channel = episode[\"Channel\"]\n",
    "    start = episode[\"EventStart\"]\n",
    "    end = int(episode[\"EventStart\"] + sfreq * 0.5)\n",
    "\n",
    "    if end > episode[\"EventEnd\"]:\n",
    "        continue\n",
    "\n",
    "    y = sample_data[channel, start:end]\n",
    "\n",
    "    fft_res = 2.0 / len(y) * np.abs(fft(y)[0:len(y) // 2])\n",
    "\n",
    "    event_fft_freq = fftfreq(len(y), 1 / sfreq)[:len(y) // 2]\n",
    "    movement_data.append(fft_res)\n",
    "\n",
    "movement_data = np.array(movement_data)"
   ],
   "metadata": {
    "collapsed": false,
    "ExecuteTime": {
     "end_time": "2024-04-28T19:11:14.793246Z",
     "start_time": "2024-04-28T19:11:14.785531Z"
    }
   },
   "id": "e6a76888e6406af9"
  },
  {
   "cell_type": "code",
   "execution_count": 5,
   "outputs": [],
   "source": [
    "rest_data = []\n",
    "\n",
    "for _, episode in rest.iterrows():\n",
    "    channel = episode[\"Channel\"]\n",
    "    start = episode[\"EventStart\"]\n",
    "    end = int(episode[\"EventStart\"] + sfreq * 0.5)\n",
    "\n",
    "    if end > episode[\"EventEnd\"]:\n",
    "        continue\n",
    "    \n",
    "    y = sample_data[channel, start:end]\n",
    "    fft_res = 2.0 / len(y) * np.abs(fft(y)[0:len(y) // 2])\n",
    "\n",
    "    rest_data.append(fft_res)\n",
    "\n",
    "rest_data = np.array(rest_data)"
   ],
   "metadata": {
    "collapsed": false,
    "ExecuteTime": {
     "end_time": "2024-04-28T19:11:14.815235Z",
     "start_time": "2024-04-28T19:11:14.795106Z"
    }
   },
   "id": "8519fd1ca2f6acff"
  },
  {
   "cell_type": "code",
   "execution_count": 6,
   "outputs": [
    {
     "data": {
      "text/plain": "<Figure size 640x480 with 1 Axes>",
      "image/png": "[encoded data removed]"
     },
     "metadata": {},
     "output_type": "display_data"
    }
   ],
   "source": [
    "plt.plot(event_fft_freq, np.mean(rest_data, axis = 0), label = \"Rest\")\n",
    "plt.plot(event_fft_freq, np.mean(movement_data, axis = 0), label = \"Movement\")\n",
    "plt.xlim(0, 100)\n",
    "plt.legend()\n",
    "plt.show()"
   ],
   "metadata": {
    "collapsed": false,
    "ExecuteTime": {
     "end_time": "2024-04-28T19:11:14.868753Z",
     "start_time": "2024-04-28T19:11:14.810147Z"
    }
   },
   "id": "3a883ff26427e3fa"
  },
  {
   "cell_type": "code",
   "execution_count": 6,
   "outputs": [],
   "source": [],
   "metadata": {
    "collapsed": false,
    "ExecuteTime": {
     "end_time": "2024-04-28T19:11:14.868924Z",
     "start_time": "2024-04-28T19:11:14.867748Z"
    }
   },
   "id": "defd4dd8c29afb52"
  }
 ],
 "metadata": {
  "kernelspec": {
   "display_name": "Python 3",
   "language": "python",
   "name": "python3"
  },
  "language_info": {
   "codemirror_mode": {
    "name": "ipython",
    "version": 2
   },
   "file_extension": ".py",
   "mimetype": "text/x-python",
   "name": "python",
   "nbconvert_exporter": "python",
   "pygments_lexer": "ipython2",
   "version": "2.7.6"
  }
 },
 "nbformat": 4,
 "nbformat_minor": 5
}

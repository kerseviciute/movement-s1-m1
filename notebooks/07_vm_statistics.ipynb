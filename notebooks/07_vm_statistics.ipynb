{
 "cells": [
  {
   "cell_type": "code",
   "execution_count": 1,
   "id": "initial_id",
   "metadata": {
    "collapsed": true,
    "ExecuteTime": {
     "end_time": "2024-03-25T16:13:50.882473Z",
     "start_time": "2024-03-25T16:13:50.248753Z"
    }
   },
   "outputs": [],
   "source": [
    "import numpy as np\n",
    "import matplotlib.pyplot as plt\n",
    "import pandas as pd\n",
    "import git\n",
    "import os\n",
    "\n",
    "# Get git repository root\n",
    "repo = git.Repo(\".\", search_parent_directories = True)\n",
    "# Update notebook working dir to repository root\n",
    "os.chdir(repo.working_tree_dir)"
   ]
  },
  {
   "cell_type": "markdown",
   "source": [
    "# Vm during movement and rest episodes"
   ],
   "metadata": {
    "collapsed": false
   },
   "id": "ccdf4c9ef2d106d5"
  },
  {
   "cell_type": "code",
   "execution_count": 2,
   "outputs": [],
   "source": [
    "samples = pd.read_csv(\"sample_sheet.csv\")\n",
    "sample = samples[samples[\"SID\"] == \"W4_C4\"].iloc[0]\n",
    "\n",
    "vm = pd.read_pickle(f\"output/movement-s1-m1/{sample['AnimalID']}/{sample['CellName']}/vm/filter.pkl\")\n",
    "vm_data = vm.get_data()\n",
    "\n",
    "action_potentials = pd.read_csv(f\"output/movement-s1-m1/{sample['AnimalID']}/{sample['CellName']}/action_potentials.csv\")\n",
    "movement = pd.read_csv(f\"output/movement-s1-m1/{sample['AnimalID']}/{sample['CellName']}/movement_episodes.csv\")\n",
    "rest = pd.read_csv(f\"output/movement-s1-m1/{sample['AnimalID']}/{sample['CellName']}/rest_episodes.csv\")"
   ],
   "metadata": {
    "collapsed": false,
    "ExecuteTime": {
     "end_time": "2024-03-25T16:13:51.432589Z",
     "start_time": "2024-03-25T16:13:50.884605Z"
    }
   },
   "id": "a7a98a186b68fe32"
  },
  {
   "cell_type": "markdown",
   "source": [
    "## Average Vm during movement"
   ],
   "metadata": {
    "collapsed": false
   },
   "id": "172a962d701b9304"
  },
  {
   "cell_type": "code",
   "execution_count": 3,
   "outputs": [
    {
     "data": {
      "text/plain": "     ID       Mean        SD\n0    M0 -54.077014  0.895848\n1    M1 -56.066644  0.721247\n2    M2 -53.812202  0.828388\n3    M3 -55.699698  0.526246\n4    M4 -57.574333  0.512756\n..  ...        ...       ...\n90  M90 -36.311975  3.800587\n91  M91 -33.299034  3.318588\n92  M92 -37.535402  2.392549\n93  M93 -36.452862  1.402069\n94  M94 -37.394372  1.540823\n\n[95 rows x 3 columns]",
      "text/html": "<div>\n<style scoped>\n    .dataframe tbody tr th:only-of-type {\n        vertical-align: middle;\n    }\n\n    .dataframe tbody tr th {\n        vertical-align: top;\n    }\n\n    .dataframe thead th {\n        text-align: right;\n    }\n</style>\n<table border=\"1\" class=\"dataframe\">\n  <thead>\n    <tr style=\"text-align: right;\">\n      <th></th>\n      <th>ID</th>\n      <th>Mean</th>\n      <th>SD</th>\n    </tr>\n  </thead>\n  <tbody>\n    <tr>\n      <th>0</th>\n      <td>M0</td>\n      <td>-54.077014</td>\n      <td>0.895848</td>\n    </tr>\n    <tr>\n      <th>1</th>\n      <td>M1</td>\n      <td>-56.066644</td>\n      <td>0.721247</td>\n    </tr>\n    <tr>\n      <th>2</th>\n      <td>M2</td>\n      <td>-53.812202</td>\n      <td>0.828388</td>\n    </tr>\n    <tr>\n      <th>3</th>\n      <td>M3</td>\n      <td>-55.699698</td>\n      <td>0.526246</td>\n    </tr>\n    <tr>\n      <th>4</th>\n      <td>M4</td>\n      <td>-57.574333</td>\n      <td>0.512756</td>\n    </tr>\n    <tr>\n      <th>...</th>\n      <td>...</td>\n      <td>...</td>\n      <td>...</td>\n    </tr>\n    <tr>\n      <th>90</th>\n      <td>M90</td>\n      <td>-36.311975</td>\n      <td>3.800587</td>\n    </tr>\n    <tr>\n      <th>91</th>\n      <td>M91</td>\n      <td>-33.299034</td>\n      <td>3.318588</td>\n    </tr>\n    <tr>\n      <th>92</th>\n      <td>M92</td>\n      <td>-37.535402</td>\n      <td>2.392549</td>\n    </tr>\n    <tr>\n      <th>93</th>\n      <td>M93</td>\n      <td>-36.452862</td>\n      <td>1.402069</td>\n    </tr>\n    <tr>\n      <th>94</th>\n      <td>M94</td>\n      <td>-37.394372</td>\n      <td>1.540823</td>\n    </tr>\n  </tbody>\n</table>\n<p>95 rows × 3 columns</p>\n</div>"
     },
     "execution_count": 3,
     "metadata": {},
     "output_type": "execute_result"
    }
   ],
   "source": [
    "stats = []\n",
    "\n",
    "for i, episode in movement.iterrows():\n",
    "    start = episode[\"EventStart\"]\n",
    "    end = episode[\"EventEnd\"]\n",
    "    channel = episode[\"Channel\"]\n",
    "    eid = episode[\"ID\"]\n",
    "\n",
    "    signal = vm_data[channel, start:end]\n",
    "    \n",
    "    stats.append(pd.DataFrame({\n",
    "        \"ID\": [ eid ],\n",
    "        \"Mean\": [ np.mean(signal) ],\n",
    "        \"SD\": [ np.std(signal) ]\n",
    "    }))\n",
    "\n",
    "stats = pd.concat(stats)\n",
    "stats = stats.reset_index(drop = True)\n",
    "stats"
   ],
   "metadata": {
    "collapsed": false,
    "ExecuteTime": {
     "end_time": "2024-03-25T16:13:51.453309Z",
     "start_time": "2024-03-25T16:13:51.433919Z"
    }
   },
   "id": "8e2186ed2d357b4b"
  },
  {
   "cell_type": "markdown",
   "source": [
    "## Average Vm during movement, excluding AP episodes"
   ],
   "metadata": {
    "collapsed": false
   },
   "id": "b474be6e579339b5"
  },
  {
   "cell_type": "code",
   "execution_count": 13,
   "outputs": [
    {
     "data": {
      "text/plain": "     ID       Mean        SD   MeanNoAP    SDNoAP  NumberOfAP\n0    M0 -54.077014  0.895848 -54.077014  0.895848           0\n1    M1 -56.066644  0.721247 -56.066644  0.721247           0\n2    M2 -53.812202  0.828388 -53.812202  0.828388           0\n3    M3 -55.699698  0.526246 -55.699698  0.526246           0\n4    M4 -57.574333  0.512756 -57.574333  0.512756           0\n..  ...        ...       ...        ...       ...         ...\n90  M90 -36.311975  3.800587 -36.626023  3.026480           2\n91  M91 -33.299034  3.318588 -33.806716  1.720625           2\n92  M92 -37.535402  2.392549 -37.535402  2.392549           0\n93  M93 -36.452862  1.402069 -36.452862  1.402069           0\n94  M94 -37.394372  1.540823 -37.394372  1.540823           0\n\n[95 rows x 6 columns]",
      "text/html": "<div>\n<style scoped>\n    .dataframe tbody tr th:only-of-type {\n        vertical-align: middle;\n    }\n\n    .dataframe tbody tr th {\n        vertical-align: top;\n    }\n\n    .dataframe thead th {\n        text-align: right;\n    }\n</style>\n<table border=\"1\" class=\"dataframe\">\n  <thead>\n    <tr style=\"text-align: right;\">\n      <th></th>\n      <th>ID</th>\n      <th>Mean</th>\n      <th>SD</th>\n      <th>MeanNoAP</th>\n      <th>SDNoAP</th>\n      <th>NumberOfAP</th>\n    </tr>\n  </thead>\n  <tbody>\n    <tr>\n      <th>0</th>\n      <td>M0</td>\n      <td>-54.077014</td>\n      <td>0.895848</td>\n      <td>-54.077014</td>\n      <td>0.895848</td>\n      <td>0</td>\n    </tr>\n    <tr>\n      <th>1</th>\n      <td>M1</td>\n      <td>-56.066644</td>\n      <td>0.721247</td>\n      <td>-56.066644</td>\n      <td>0.721247</td>\n      <td>0</td>\n    </tr>\n    <tr>\n      <th>2</th>\n      <td>M2</td>\n      <td>-53.812202</td>\n      <td>0.828388</td>\n      <td>-53.812202</td>\n      <td>0.828388</td>\n      <td>0</td>\n    </tr>\n    <tr>\n      <th>3</th>\n      <td>M3</td>\n      <td>-55.699698</td>\n      <td>0.526246</td>\n      <td>-55.699698</td>\n      <td>0.526246</td>\n      <td>0</td>\n    </tr>\n    <tr>\n      <th>4</th>\n      <td>M4</td>\n      <td>-57.574333</td>\n      <td>0.512756</td>\n      <td>-57.574333</td>\n      <td>0.512756</td>\n      <td>0</td>\n    </tr>\n    <tr>\n      <th>...</th>\n      <td>...</td>\n      <td>...</td>\n      <td>...</td>\n      <td>...</td>\n      <td>...</td>\n      <td>...</td>\n    </tr>\n    <tr>\n      <th>90</th>\n      <td>M90</td>\n      <td>-36.311975</td>\n      <td>3.800587</td>\n      <td>-36.626023</td>\n      <td>3.026480</td>\n      <td>2</td>\n    </tr>\n    <tr>\n      <th>91</th>\n      <td>M91</td>\n      <td>-33.299034</td>\n      <td>3.318588</td>\n      <td>-33.806716</td>\n      <td>1.720625</td>\n      <td>2</td>\n    </tr>\n    <tr>\n      <th>92</th>\n      <td>M92</td>\n      <td>-37.535402</td>\n      <td>2.392549</td>\n      <td>-37.535402</td>\n      <td>2.392549</td>\n      <td>0</td>\n    </tr>\n    <tr>\n      <th>93</th>\n      <td>M93</td>\n      <td>-36.452862</td>\n      <td>1.402069</td>\n      <td>-36.452862</td>\n      <td>1.402069</td>\n      <td>0</td>\n    </tr>\n    <tr>\n      <th>94</th>\n      <td>M94</td>\n      <td>-37.394372</td>\n      <td>1.540823</td>\n      <td>-37.394372</td>\n      <td>1.540823</td>\n      <td>0</td>\n    </tr>\n  </tbody>\n</table>\n<p>95 rows × 6 columns</p>\n</div>"
     },
     "execution_count": 13,
     "metadata": {},
     "output_type": "execute_result"
    }
   ],
   "source": [
    "continuous_vm_data = []\n",
    "continuous_vm_data_no_ap = []\n",
    "\n",
    "stats = []\n",
    "\n",
    "for i, episode in movement.iterrows():\n",
    "    start = episode[\"EventStart\"]\n",
    "    end = episode[\"EventEnd\"]\n",
    "    channel = episode[\"Channel\"]\n",
    "    eid = episode[\"ID\"]\n",
    "\n",
    "    signal_range = np.arange(start, end)\n",
    "\n",
    "    channel_aps = action_potentials[action_potentials[\"Channel\"] == channel]\n",
    "    episode_aps = np.logical_and(\n",
    "        channel_aps[\"EventStart\"] >= start,\n",
    "        channel_aps[\"EventStart\"] <= end\n",
    "    )\n",
    "\n",
    "    n_ap = sum(episode_aps)\n",
    "\n",
    "    if sum(episode_aps) >= 1:\n",
    "        # Get APs within the episode and remove their ranges\n",
    "        episode_aps = channel_aps[episode_aps]\n",
    "        for j, ap in episode_aps.iterrows():\n",
    "            ap_start = round(ap[\"EventStart\"])\n",
    "            ap_end = round(ap[\"EventEnd\"]) + 50\n",
    "\n",
    "            ap_range = np.arange(ap_start, ap_end)\n",
    "            signal_range = [i for i in signal_range if i not in ap_range]\n",
    "\n",
    "    signal = vm_data[channel, start:end]\n",
    "    signal_no_ap = vm_data[channel, signal_range]\n",
    "\n",
    "    stats.append(pd.DataFrame({\n",
    "        \"ID\": [ eid ],\n",
    "        \"Mean\": [ np.mean(signal) ],\n",
    "        \"SD\": [ np.std(signal) ],\n",
    "        \"MeanNoAP\": [ np.mean(signal_no_ap) ],\n",
    "        \"SDNoAP\": [ np.std(signal_no_ap) ],\n",
    "        \"NumberOfAP\": [ n_ap ]\n",
    "    }))\n",
    "\n",
    "    continuous_vm_data.append(signal)\n",
    "    continuous_vm_data_no_ap.append(signal_no_ap)\n",
    "\n",
    "continuous_vm_data = np.concatenate(continuous_vm_data)\n",
    "continuous_vm_data_no_ap = np.concatenate(continuous_vm_data_no_ap)\n",
    "\n",
    "stats = pd.concat(stats)\n",
    "stats = stats.reset_index(drop = True)\n",
    "stats"
   ],
   "metadata": {
    "collapsed": false,
    "ExecuteTime": {
     "end_time": "2024-03-25T16:19:12.501698Z",
     "start_time": "2024-03-25T16:19:11.106326Z"
    }
   },
   "id": "846650cbc506844"
  },
  {
   "cell_type": "code",
   "execution_count": 5,
   "outputs": [
    {
     "data": {
      "text/plain": "<Figure size 640x480 with 1 Axes>",
      "image/png": "[encoded data removed]"
     },
     "metadata": {},
     "output_type": "display_data"
    }
   ],
   "source": [
    "plt.plot(continuous_vm_data_no_ap)\n",
    "plt.plot(continuous_vm_data, alpha = 0.5)\n",
    "plt.show()"
   ],
   "metadata": {
    "collapsed": false,
    "ExecuteTime": {
     "end_time": "2024-03-25T16:13:53.105157Z",
     "start_time": "2024-03-25T16:13:52.937453Z"
    }
   },
   "id": "20de5398c8932197"
  },
  {
   "cell_type": "code",
   "execution_count": 6,
   "outputs": [],
   "source": [],
   "metadata": {
    "collapsed": false,
    "ExecuteTime": {
     "end_time": "2024-03-25T16:13:53.120768Z",
     "start_time": "2024-03-25T16:13:53.110699Z"
    }
   },
   "id": "982769a544d89f9f"
  }
 ],
 "metadata": {
  "kernelspec": {
   "display_name": "Python 3",
   "language": "python",
   "name": "python3"
  },
  "language_info": {
   "codemirror_mode": {
    "name": "ipython",
    "version": 2
   },
   "file_extension": ".py",
   "mimetype": "text/x-python",
   "name": "python",
   "nbconvert_exporter": "python",
   "pygments_lexer": "ipython2",
   "version": "2.7.6"
  }
 },
 "nbformat": 4,
 "nbformat_minor": 5
}

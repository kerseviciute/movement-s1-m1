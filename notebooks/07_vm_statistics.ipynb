{
 "cells": [
  {
   "cell_type": "code",
   "execution_count": 1,
   "id": "initial_id",
   "metadata": {
    "collapsed": true,
    "ExecuteTime": {
     "end_time": "2024-03-16T14:31:09.268064Z",
     "start_time": "2024-03-16T14:31:08.425278Z"
    }
   },
   "outputs": [],
   "source": [
    "import numpy as np\n",
    "import matplotlib.pyplot as plt\n",
    "import pandas as pd\n",
    "import git\n",
    "import os\n",
    "\n",
    "# Get git repository root\n",
    "repo = git.Repo(\".\", search_parent_directories = True)\n",
    "# Update notebook working dir to repository root\n",
    "os.chdir(repo.working_tree_dir)"
   ]
  },
  {
   "cell_type": "markdown",
   "source": [
    "# Vm during movement and rest episodes"
   ],
   "metadata": {
    "collapsed": false
   },
   "id": "ccdf4c9ef2d106d5"
  },
  {
   "cell_type": "code",
   "execution_count": 2,
   "outputs": [],
   "source": [
    "samples = pd.read_csv(\"sample_sheet.csv\")\n",
    "sample = samples[samples[\"SID\"] == \"W4_C4\"].iloc[0]\n",
    "\n",
    "vm = pd.read_pickle(f\"output/movement-s1-m1/{sample['AnimalID']}/{sample['CellName']}/vm/filter.pkl\")\n",
    "vm_data = vm.get_data()\n",
    "\n",
    "action_potentials = pd.read_csv(f\"output/movement-s1-m1/{sample['AnimalID']}/{sample['CellName']}/action_potentials.csv\")\n",
    "movement = pd.read_csv(f\"output/movement-s1-m1/{sample['AnimalID']}/{sample['CellName']}/movement_episodes.csv\")\n",
    "rest = pd.read_csv(f\"output/movement-s1-m1/{sample['AnimalID']}/{sample['CellName']}/rest_episodes.csv\")"
   ],
   "metadata": {
    "collapsed": false,
    "ExecuteTime": {
     "end_time": "2024-03-16T14:31:09.829486Z",
     "start_time": "2024-03-16T14:31:09.271509Z"
    }
   },
   "id": "a7a98a186b68fe32"
  },
  {
   "cell_type": "markdown",
   "source": [
    "## Average Vm during movement"
   ],
   "metadata": {
    "collapsed": false
   },
   "id": "172a962d701b9304"
  },
  {
   "cell_type": "code",
   "execution_count": 3,
   "outputs": [],
   "source": [
    "episode_vm_data = []\n",
    "\n",
    "for i, episode in movement.iterrows():\n",
    "    start = episode[\"EventStart\"]\n",
    "    end = episode[\"EventEnd\"]\n",
    "    channel = episode[\"Channel\"]\n",
    "\n",
    "    signal = vm_data[channel, start:end]\n",
    "\n",
    "    episode_vm_data.append(signal)\n",
    "\n",
    "continuous_vm_data = np.concatenate(episode_vm_data)"
   ],
   "metadata": {
    "collapsed": false,
    "ExecuteTime": {
     "end_time": "2024-03-16T14:31:09.838873Z",
     "start_time": "2024-03-16T14:31:09.831583Z"
    }
   },
   "id": "8a3574d9ae88cfac"
  },
  {
   "cell_type": "code",
   "execution_count": 4,
   "outputs": [
    {
     "data": {
      "text/plain": "-41.07017808048996"
     },
     "execution_count": 4,
     "metadata": {},
     "output_type": "execute_result"
    }
   ],
   "source": [
    "np.mean(continuous_vm_data)"
   ],
   "metadata": {
    "collapsed": false,
    "ExecuteTime": {
     "end_time": "2024-03-16T14:31:09.850114Z",
     "start_time": "2024-03-16T14:31:09.837092Z"
    }
   },
   "id": "4ddcd74bfd6832e6"
  },
  {
   "cell_type": "code",
   "execution_count": 5,
   "outputs": [
    {
     "data": {
      "text/plain": "7.299413955759039"
     },
     "execution_count": 5,
     "metadata": {},
     "output_type": "execute_result"
    }
   ],
   "source": [
    "np.std(continuous_vm_data)"
   ],
   "metadata": {
    "collapsed": false,
    "ExecuteTime": {
     "end_time": "2024-03-16T14:31:09.885406Z",
     "start_time": "2024-03-16T14:31:09.847961Z"
    }
   },
   "id": "fc8d4954cf3dfab8"
  },
  {
   "cell_type": "markdown",
   "source": [
    "## Average Vm during movement, excluding AP episodes"
   ],
   "metadata": {
    "collapsed": false
   },
   "id": "b474be6e579339b5"
  },
  {
   "cell_type": "code",
   "execution_count": 6,
   "outputs": [],
   "source": [
    "episode_vm_data_no_ap = []\n",
    "\n",
    "for i, episode in movement.iterrows():\n",
    "    start = episode[\"EventStart\"]\n",
    "    end = episode[\"EventEnd\"]\n",
    "    channel = episode[\"Channel\"]\n",
    "\n",
    "    signal_range = np.arange(start, end)\n",
    "\n",
    "    channel_aps = action_potentials[action_potentials[\"Channel\"] == channel]\n",
    "    episode_aps = np.logical_and(\n",
    "        channel_aps[\"EventStart\"] >= start,\n",
    "        channel_aps[\"EventStart\"] <= end\n",
    "    )\n",
    "\n",
    "    if sum(episode_aps) >= 1:\n",
    "        # Get APs within the episode and remove their ranges\n",
    "        episode_aps = channel_aps[episode_aps]\n",
    "        for j, ap in episode_aps.iterrows():\n",
    "            ap_start = round(ap[\"EventStart\"])\n",
    "            ap_end = round(ap[\"EventEnd\"]) + 50\n",
    "\n",
    "            ap_range = np.arange(ap_start, ap_end)\n",
    "            signal_range = [i for i in signal_range if i not in ap_range]\n",
    "\n",
    "    signal = vm_data[channel, signal_range]\n",
    "\n",
    "    episode_vm_data_no_ap.append(signal)\n",
    "\n",
    "continuous_vm_data_no_ap = np.concatenate(episode_vm_data_no_ap)"
   ],
   "metadata": {
    "collapsed": false,
    "ExecuteTime": {
     "end_time": "2024-03-16T14:32:58.299825Z",
     "start_time": "2024-03-16T14:31:09.868047Z"
    }
   },
   "id": "846650cbc506844"
  },
  {
   "cell_type": "code",
   "execution_count": 7,
   "outputs": [
    {
     "data": {
      "text/plain": "-41.493590013997874"
     },
     "execution_count": 7,
     "metadata": {},
     "output_type": "execute_result"
    }
   ],
   "source": [
    "np.mean(continuous_vm_data_no_ap)"
   ],
   "metadata": {
    "collapsed": false,
    "ExecuteTime": {
     "end_time": "2024-03-16T14:32:58.303820Z",
     "start_time": "2024-03-16T14:32:58.300356Z"
    }
   },
   "id": "27e3074a671a2d6f"
  },
  {
   "cell_type": "code",
   "execution_count": 8,
   "outputs": [
    {
     "data": {
      "text/plain": "6.664067713524728"
     },
     "execution_count": 8,
     "metadata": {},
     "output_type": "execute_result"
    }
   ],
   "source": [
    "np.std(continuous_vm_data_no_ap)"
   ],
   "metadata": {
    "collapsed": false,
    "ExecuteTime": {
     "end_time": "2024-03-16T14:32:58.315777Z",
     "start_time": "2024-03-16T14:32:58.304021Z"
    }
   },
   "id": "56a8722cc7acef83"
  },
  {
   "cell_type": "code",
   "execution_count": 9,
   "outputs": [
    {
     "data": {
      "text/plain": "<Figure size 640x480 with 1 Axes>",
      "image/png": "[encoded data removed]"
     },
     "metadata": {},
     "output_type": "display_data"
    }
   ],
   "source": [
    "plt.plot(continuous_vm_data_no_ap)\n",
    "plt.plot(continuous_vm_data, alpha = 0.5)\n",
    "plt.show()"
   ],
   "metadata": {
    "collapsed": false,
    "ExecuteTime": {
     "end_time": "2024-03-16T14:32:58.575078Z",
     "start_time": "2024-03-16T14:32:58.309935Z"
    }
   },
   "id": "20de5398c8932197"
  },
  {
   "cell_type": "code",
   "execution_count": 10,
   "outputs": [
    {
     "data": {
      "text/plain": "        Mean  MeanNoAP        SD    SDNoAP\n0 -41.070178 -41.49359  7.299414  6.664068",
      "text/html": "<div>\n<style scoped>\n    .dataframe tbody tr th:only-of-type {\n        vertical-align: middle;\n    }\n\n    .dataframe tbody tr th {\n        vertical-align: top;\n    }\n\n    .dataframe thead th {\n        text-align: right;\n    }\n</style>\n<table border=\"1\" class=\"dataframe\">\n  <thead>\n    <tr style=\"text-align: right;\">\n      <th></th>\n      <th>Mean</th>\n      <th>MeanNoAP</th>\n      <th>SD</th>\n      <th>SDNoAP</th>\n    </tr>\n  </thead>\n  <tbody>\n    <tr>\n      <th>0</th>\n      <td>-41.070178</td>\n      <td>-41.49359</td>\n      <td>7.299414</td>\n      <td>6.664068</td>\n    </tr>\n  </tbody>\n</table>\n</div>"
     },
     "execution_count": 10,
     "metadata": {},
     "output_type": "execute_result"
    }
   ],
   "source": [
    "pd.DataFrame({\n",
    "    \"Mean\": [np.mean(continuous_vm_data)],\n",
    "    \"MeanNoAP\": [np.mean(continuous_vm_data_no_ap)],\n",
    "    \"SD\": [np.std(continuous_vm_data)],\n",
    "    \"SDNoAP\": [np.std(continuous_vm_data_no_ap)]\n",
    "})"
   ],
   "metadata": {
    "collapsed": false,
    "ExecuteTime": {
     "end_time": "2024-03-16T14:32:58.587038Z",
     "start_time": "2024-03-16T14:32:58.573311Z"
    }
   },
   "id": "5476ed5ecccdb4d"
  },
  {
   "cell_type": "code",
   "execution_count": 10,
   "outputs": [],
   "source": [],
   "metadata": {
    "collapsed": false,
    "ExecuteTime": {
     "end_time": "2024-03-16T14:32:58.587398Z",
     "start_time": "2024-03-16T14:32:58.585314Z"
    }
   },
   "id": "982769a544d89f9f"
  }
 ],
 "metadata": {
  "kernelspec": {
   "display_name": "Python 3",
   "language": "python",
   "name": "python3"
  },
  "language_info": {
   "codemirror_mode": {
    "name": "ipython",
    "version": 2
   },
   "file_extension": ".py",
   "mimetype": "text/x-python",
   "name": "python",
   "nbconvert_exporter": "python",
   "pygments_lexer": "ipython2",
   "version": "2.7.6"
  }
 },
 "nbformat": 4,
 "nbformat_minor": 5
}
